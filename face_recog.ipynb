{
 "cells": [
  {
   "cell_type": "code",
   "execution_count": 3,
   "id": "9d3448fd",
   "metadata": {},
   "outputs": [],
   "source": [
    "import cv2\n",
    "import os\n",
    "import face_recognition"
   ]
  },
  {
   "cell_type": "code",
   "execution_count": 4,
   "id": "50d9e19d",
   "metadata": {},
   "outputs": [
    {
     "data": {
      "text/plain": [
       "'c:\\\\Users\\\\anied\\\\anaconda3\\\\envs\\\\face_recog\\\\lib\\\\site-packages\\\\cv2\\\\data/haarcascade_frontalface_default.xml'"
      ]
     },
     "execution_count": 4,
     "metadata": {},
     "output_type": "execute_result"
    }
   ],
   "source": [
    "cv2_base_dir = os.path.dirname(os.path.abspath(cv2.__file__))\n",
    "haar_model = os.path.join(cv2_base_dir, 'data/haarcascade_frontalface_default.xml')\n",
    "haar_model"
   ]
  },
  {
   "cell_type": "code",
   "execution_count": 6,
   "id": "5b638870",
   "metadata": {},
   "outputs": [
    {
     "name": "stdout",
     "output_type": "stream",
     "text": [
      "1\n",
      "2\n",
      "3\n",
      "4\n",
      "5\n",
      "6\n",
      "7\n",
      "8\n",
      "9\n",
      "10\n",
      "11\n",
      "12\n",
      "13\n",
      "14\n",
      "15\n",
      "16\n",
      "17\n",
      "18\n",
      "19\n",
      "20\n",
      "21\n",
      "22\n",
      "23\n",
      "24\n",
      "25\n",
      "26\n",
      "27\n",
      "28\n",
      "29\n",
      "30\n",
      "31\n",
      "32\n",
      "33\n",
      "34\n",
      "35\n",
      "36\n",
      "37\n",
      "38\n",
      "39\n",
      "40\n",
      "41\n",
      "42\n",
      "43\n",
      "44\n",
      "45\n",
      "46\n",
      "47\n",
      "48\n",
      "49\n",
      "50\n"
     ]
    }
   ],
   "source": [
    "capture = cv2.VideoCapture(0)\n",
    "facedetect = cv2.CascadeClassifier(haar_model)\n",
    "count = 0\n",
    "while True:\n",
    "    _,frame = capture.read()\n",
    "    faces = facedetect.detectMultiScale(frame,1,5)\n",
    "    \n",
    "    for x,y,w,h in faces:\n",
    "        count += 1\n",
    "        img_name = \"./images/\" + str(count) + \".jpg\"\n",
    "        print(count)\n",
    "        cv2.imwrite(img_name,frame[y:y+h,x:x+w])\n",
    "        cv2.rectangle(frame,(x,y),(x+w,y+h),(0,0,255),3)\n",
    "    cv2.imshow(\"Frame\",frame)\n",
    "    key = cv2.waitKey(1)\n",
    "    if count == 5:\n",
    "        break\n",
    "capture.release()\n",
    "cv2.destroyAllWindows()"
   ]
  },
  {
   "cell_type": "code",
   "execution_count": 3,
   "id": "e5e82f80",
   "metadata": {},
   "outputs": [],
   "source": [
    "encodings_list = []\n",
    "img_dir = \"images/\"\n",
    "images = os.listdir(img_dir)\n",
    "for i in os.listdir(\"images/\"):\n",
    "    path = os.path.join(img_dir,i)\n",
    "    img = face_recognition.load_image_file(path)\n",
    "    if len(face_recognition.face_encodings(img)) == 0:\n",
    "        continue\n",
    "    else:\n",
    "        face_encodings_ = face_recognition.face_encodings(img)[0] \n",
    "        encodings_list.append(face_encodings_)"
   ]
  },
  {
   "cell_type": "code",
   "execution_count": 27,
   "id": "6330c701",
   "metadata": {},
   "outputs": [
    {
     "name": "stdout",
     "output_type": "stream",
     "text": [
      "[True, True, True, True, True, True, True, True, True, True, True, True, True, True, True, True, True, True, True, True, True, True, True, True, True, True, True, True, True, True, True, True, True, True, True, True, True, True, True, True, True, True, True, True, True, True]\n",
      "[True, True, True, True, True, True, True, True, True, True, True, True, True, True, True, True, True, True, True, True, True, True, True, True, True, True, True, True, True, True, True, True, True, True, True, True, True, True, True, True, True, True, True, True, True, True]\n",
      "[True, True, True, True, True, True, True, True, True, True, True, True, True, True, True, True, True, True, True, True, True, True, True, True, True, True, True, True, True, True, True, True, True, True, True, True, True, True, True, True, True, True, True, True, True, True]\n",
      "[True, True, True, True, True, True, True, True, True, True, True, True, True, True, True, True, True, True, True, True, True, True, True, True, True, True, True, True, True, True, True, True, True, True, True, True, True, True, True, True, True, True, True, True, True, True]\n",
      "[True, True, True, True, True, True, True, True, True, True, True, True, True, True, True, True, True, True, True, True, True, True, True, True, True, True, True, True, True, True, True, True, True, True, True, True, True, True, True, True, True, True, True, True, True, True]\n",
      "[True, True, True, True, True, True, True, True, True, True, True, True, True, True, True, True, True, True, True, True, True, True, True, True, True, True, True, True, True, True, True, True, True, True, True, True, True, True, True, True, True, True, True, True, True, True]\n",
      "[True, True, True, True, True, True, True, True, True, True, True, True, True, True, True, True, True, True, True, True, True, True, True, True, True, True, True, True, True, True, True, True, True, True, True, True, True, True, True, True, True, True, True, True, True, True]\n",
      "[True, True, True, True, True, True, True, True, True, True, True, True, True, True, True, True, True, True, True, True, True, True, True, True, True, True, True, True, True, True, True, True, True, True, True, True, True, True, True, True, True, True, True, True, True, True]\n",
      "[False, False, False, False, False, False, False, False, True, False, False, True, True, True, False, False, False, False, False, False, False, False, False, False, False, True, False, False, True, False, False, False, False, False, False, True, False, False, False, False, False, False, True, False, False, False]\n",
      "[False, False, False, False, False, False, False, False, False, False, False, False, False, False, False, False, False, False, False, False, False, False, False, False, False, False, False, False, False, False, False, False, False, False, False, False, False, False, False, False, False, False, False, False, False, False]\n",
      "[True, False, False, False, False, False, False, True, True, False, False, True, True, True, False, True, False, True, False, False, False, False, False, False, False, True, True, False, True, False, False, True, False, False, False, True, False, False, False, False, False, False, True, True, True, False]\n",
      "[False, False, False, False, False, False, False, False, False, False, False, False, False, False, False, False, False, False, False, False, False, False, False, False, False, False, False, False, False, False, False, False, False, False, False, False, False, False, False, False, False, False, False, False, False, False]\n",
      "[True, False, True, False, False, False, False, True, False, False, True, True, True, True, True, True, False, True, False, False, False, True, False, True, True, True, True, False, True, False, True, True, True, False, False, True, False, False, False, False, True, False, True, True, True, False]\n"
     ]
    }
   ],
   "source": [
    "capture = cv2.VideoCapture(0)\n",
    "facedetect = cv2.CascadeClassifier(haar_model)\n",
    "while True:\n",
    "    _,frame = capture.read()\n",
    "    faces = facedetect.detectMultiScale(frame,1.6,5)\n",
    "    for x,y,w,h in faces:\n",
    "        img_ = cv2.cvtColor(frame[y:y+h,x:x+w],cv2.COLOR_BGR2RGB)\n",
    "        if len(face_recognition.face_encodings(img_)) == 0:\n",
    "            continue\n",
    "        else:\n",
    "            img_encode = face_recognition.face_encodings(img_)[0]\n",
    "            result_= face_recognition.compare_faces(encodings_list,img_encode,0.6)\n",
    "            if sum(result_)/len(result_) > 0.5:\n",
    "                name = \"Matched\" \n",
    "                cv2.putText(frame,name,(x-8,y),cv2.FONT_HERSHEY_PLAIN,1,(0,255,0),2)\n",
    "                cv2.rectangle(frame,(x,y),(x+w,y+h),(0,255,0),2)  \n",
    "            else:\n",
    "                name = \"Unmatched\"\n",
    "                cv2.putText(frame,name,(x-8,y),cv2.FONT_HERSHEY_PLAIN,1,(0,0,255),2)\n",
    "                cv2.rectangle(frame,(x,y),(x+w,y+h),(0,0,255),2)              \n",
    "        \n",
    "    cv2.imshow(\"Frame\",frame)\n",
    "    key = cv2.waitKey(1)\n",
    "    if key == 27:\n",
    "        break\n",
    "capture.release()\n",
    "cv2.destroyAllWindows()"
   ]
  },
  {
   "cell_type": "code",
   "execution_count": null,
   "id": "27e064cf",
   "metadata": {},
   "outputs": [],
   "source": []
  }
 ],
 "metadata": {
  "kernelspec": {
   "display_name": "Python 3.8.13 ('face_recog')",
   "language": "python",
   "name": "python3"
  },
  "language_info": {
   "codemirror_mode": {
    "name": "ipython",
    "version": 3
   },
   "file_extension": ".py",
   "mimetype": "text/x-python",
   "name": "python",
   "nbconvert_exporter": "python",
   "pygments_lexer": "ipython3",
   "version": "3.8.13"
  },
  "vscode": {
   "interpreter": {
    "hash": "64547f8efea7414ce0dce0c812d45c2763607785c8a486907cdcf39b1792ff72"
   }
  }
 },
 "nbformat": 4,
 "nbformat_minor": 5
}
